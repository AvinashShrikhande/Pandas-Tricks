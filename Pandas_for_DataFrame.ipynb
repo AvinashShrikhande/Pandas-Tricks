{
  "nbformat": 4,
  "nbformat_minor": 0,
  "metadata": {
    "colab": {
      "name": "Pandas for DataFrame.ipynb",
      "provenance": [],
      "authorship_tag": "ABX9TyOdcspj1RAQ4dskTL5MZQVO",
      "include_colab_link": true
    },
    "kernelspec": {
      "name": "python3",
      "display_name": "Python 3"
    },
    "language_info": {
      "name": "python"
    }
  },
  "cells": [
    {
      "cell_type": "markdown",
      "metadata": {
        "id": "view-in-github",
        "colab_type": "text"
      },
      "source": [
        "<a href=\"https://colab.research.google.com/github/AvinashShrikhande/Pandas-Tricks/blob/main/Pandas_for_DataFrame.ipynb\" target=\"_parent\"><img src=\"https://colab.research.google.com/assets/colab-badge.svg\" alt=\"Open In Colab\"/></a>"
      ]
    },
    {
      "cell_type": "code",
      "metadata": {
        "id": "7oz1FxgPU6u-"
      },
      "source": [
        "import pandas as pd\n",
        "import numpy as np\n"
      ],
      "execution_count": null,
      "outputs": []
    },
    {
      "cell_type": "markdown",
      "metadata": {
        "id": "RQ5KqkElHfFM"
      },
      "source": [
        "### **1.Create an example DataFrame**"
      ]
    },
    {
      "cell_type": "code",
      "metadata": {
        "colab": {
          "base_uri": "https://localhost:8080/",
          "height": 106
        },
        "id": "afxqslEFXJs4",
        "outputId": "72ec8c9a-6aee-413b-990b-8890439a392e"
      },
      "source": [
        "df = pd.DataFrame({'col one':[100,200],'col two':[300,400]})\n",
        "df"
      ],
      "execution_count": null,
      "outputs": [
        {
          "output_type": "execute_result",
          "data": {
            "text/html": [
              "<div>\n",
              "<style scoped>\n",
              "    .dataframe tbody tr th:only-of-type {\n",
              "        vertical-align: middle;\n",
              "    }\n",
              "\n",
              "    .dataframe tbody tr th {\n",
              "        vertical-align: top;\n",
              "    }\n",
              "\n",
              "    .dataframe thead th {\n",
              "        text-align: right;\n",
              "    }\n",
              "</style>\n",
              "<table border=\"1\" class=\"dataframe\">\n",
              "  <thead>\n",
              "    <tr style=\"text-align: right;\">\n",
              "      <th></th>\n",
              "      <th>col one</th>\n",
              "      <th>col two</th>\n",
              "    </tr>\n",
              "  </thead>\n",
              "  <tbody>\n",
              "    <tr>\n",
              "      <th>0</th>\n",
              "      <td>100</td>\n",
              "      <td>300</td>\n",
              "    </tr>\n",
              "    <tr>\n",
              "      <th>1</th>\n",
              "      <td>200</td>\n",
              "      <td>400</td>\n",
              "    </tr>\n",
              "  </tbody>\n",
              "</table>\n",
              "</div>"
            ],
            "text/plain": [
              "   col one  col two\n",
              "0      100      300\n",
              "1      200      400"
            ]
          },
          "metadata": {
            "tags": []
          },
          "execution_count": 16
        }
      ]
    },
    {
      "cell_type": "code",
      "metadata": {
        "colab": {
          "base_uri": "https://localhost:8080/",
          "height": 166
        },
        "id": "5SD5rhQ-Yvwk",
        "outputId": "17bb2acb-4551-4298-abfb-0a08a88cd466"
      },
      "source": [
        "pd.DataFrame(np.random.rand(4,8))"
      ],
      "execution_count": null,
      "outputs": [
        {
          "output_type": "execute_result",
          "data": {
            "text/html": [
              "<div>\n",
              "<style scoped>\n",
              "    .dataframe tbody tr th:only-of-type {\n",
              "        vertical-align: middle;\n",
              "    }\n",
              "\n",
              "    .dataframe tbody tr th {\n",
              "        vertical-align: top;\n",
              "    }\n",
              "\n",
              "    .dataframe thead th {\n",
              "        text-align: right;\n",
              "    }\n",
              "</style>\n",
              "<table border=\"1\" class=\"dataframe\">\n",
              "  <thead>\n",
              "    <tr style=\"text-align: right;\">\n",
              "      <th></th>\n",
              "      <th>0</th>\n",
              "      <th>1</th>\n",
              "      <th>2</th>\n",
              "      <th>3</th>\n",
              "      <th>4</th>\n",
              "      <th>5</th>\n",
              "      <th>6</th>\n",
              "      <th>7</th>\n",
              "    </tr>\n",
              "  </thead>\n",
              "  <tbody>\n",
              "    <tr>\n",
              "      <th>0</th>\n",
              "      <td>0.259616</td>\n",
              "      <td>0.201086</td>\n",
              "      <td>0.982712</td>\n",
              "      <td>0.746865</td>\n",
              "      <td>0.242824</td>\n",
              "      <td>0.004244</td>\n",
              "      <td>0.557932</td>\n",
              "      <td>0.543363</td>\n",
              "    </tr>\n",
              "    <tr>\n",
              "      <th>1</th>\n",
              "      <td>0.226521</td>\n",
              "      <td>0.083115</td>\n",
              "      <td>0.694874</td>\n",
              "      <td>0.111572</td>\n",
              "      <td>0.466235</td>\n",
              "      <td>0.883843</td>\n",
              "      <td>0.028440</td>\n",
              "      <td>0.918146</td>\n",
              "    </tr>\n",
              "    <tr>\n",
              "      <th>2</th>\n",
              "      <td>0.246831</td>\n",
              "      <td>0.485230</td>\n",
              "      <td>0.838053</td>\n",
              "      <td>0.859808</td>\n",
              "      <td>0.775287</td>\n",
              "      <td>0.824909</td>\n",
              "      <td>0.749766</td>\n",
              "      <td>0.897438</td>\n",
              "    </tr>\n",
              "    <tr>\n",
              "      <th>3</th>\n",
              "      <td>0.862735</td>\n",
              "      <td>0.596312</td>\n",
              "      <td>0.457055</td>\n",
              "      <td>0.423500</td>\n",
              "      <td>0.052005</td>\n",
              "      <td>0.307317</td>\n",
              "      <td>0.942778</td>\n",
              "      <td>0.473067</td>\n",
              "    </tr>\n",
              "  </tbody>\n",
              "</table>\n",
              "</div>"
            ],
            "text/plain": [
              "          0         1         2  ...         5         6         7\n",
              "0  0.259616  0.201086  0.982712  ...  0.004244  0.557932  0.543363\n",
              "1  0.226521  0.083115  0.694874  ...  0.883843  0.028440  0.918146\n",
              "2  0.246831  0.485230  0.838053  ...  0.824909  0.749766  0.897438\n",
              "3  0.862735  0.596312  0.457055  ...  0.307317  0.942778  0.473067\n",
              "\n",
              "[4 rows x 8 columns]"
            ]
          },
          "metadata": {
            "tags": []
          },
          "execution_count": 18
        }
      ]
    },
    {
      "cell_type": "code",
      "metadata": {
        "colab": {
          "base_uri": "https://localhost:8080/",
          "height": 166
        },
        "id": "0nS0vFrEZALW",
        "outputId": "19b20c44-4296-45f8-d18b-521436642f1e"
      },
      "source": [
        "#Enter the same no of string length as column here its 8 col as len(\"abcdefg\")=8 \n",
        "pd.DataFrame(np.random.rand(4,8), columns = list('abcdefgh'))"
      ],
      "execution_count": null,
      "outputs": [
        {
          "output_type": "execute_result",
          "data": {
            "text/html": [
              "<div>\n",
              "<style scoped>\n",
              "    .dataframe tbody tr th:only-of-type {\n",
              "        vertical-align: middle;\n",
              "    }\n",
              "\n",
              "    .dataframe tbody tr th {\n",
              "        vertical-align: top;\n",
              "    }\n",
              "\n",
              "    .dataframe thead th {\n",
              "        text-align: right;\n",
              "    }\n",
              "</style>\n",
              "<table border=\"1\" class=\"dataframe\">\n",
              "  <thead>\n",
              "    <tr style=\"text-align: right;\">\n",
              "      <th></th>\n",
              "      <th>a</th>\n",
              "      <th>b</th>\n",
              "      <th>c</th>\n",
              "      <th>d</th>\n",
              "      <th>e</th>\n",
              "      <th>f</th>\n",
              "      <th>g</th>\n",
              "      <th>h</th>\n",
              "    </tr>\n",
              "  </thead>\n",
              "  <tbody>\n",
              "    <tr>\n",
              "      <th>0</th>\n",
              "      <td>0.719095</td>\n",
              "      <td>0.968299</td>\n",
              "      <td>0.054972</td>\n",
              "      <td>0.351252</td>\n",
              "      <td>0.914785</td>\n",
              "      <td>0.140996</td>\n",
              "      <td>0.924949</td>\n",
              "      <td>0.797554</td>\n",
              "    </tr>\n",
              "    <tr>\n",
              "      <th>1</th>\n",
              "      <td>0.875943</td>\n",
              "      <td>0.458579</td>\n",
              "      <td>0.136004</td>\n",
              "      <td>0.272966</td>\n",
              "      <td>0.122578</td>\n",
              "      <td>0.613794</td>\n",
              "      <td>0.113736</td>\n",
              "      <td>0.708045</td>\n",
              "    </tr>\n",
              "    <tr>\n",
              "      <th>2</th>\n",
              "      <td>0.890696</td>\n",
              "      <td>0.187624</td>\n",
              "      <td>0.365470</td>\n",
              "      <td>0.142295</td>\n",
              "      <td>0.573072</td>\n",
              "      <td>0.327551</td>\n",
              "      <td>0.728319</td>\n",
              "      <td>0.991210</td>\n",
              "    </tr>\n",
              "    <tr>\n",
              "      <th>3</th>\n",
              "      <td>0.844225</td>\n",
              "      <td>0.631421</td>\n",
              "      <td>0.347171</td>\n",
              "      <td>0.166562</td>\n",
              "      <td>0.577317</td>\n",
              "      <td>0.840579</td>\n",
              "      <td>0.853156</td>\n",
              "      <td>0.280139</td>\n",
              "    </tr>\n",
              "  </tbody>\n",
              "</table>\n",
              "</div>"
            ],
            "text/plain": [
              "          a         b         c  ...         f         g         h\n",
              "0  0.719095  0.968299  0.054972  ...  0.140996  0.924949  0.797554\n",
              "1  0.875943  0.458579  0.136004  ...  0.613794  0.113736  0.708045\n",
              "2  0.890696  0.187624  0.365470  ...  0.327551  0.728319  0.991210\n",
              "3  0.844225  0.631421  0.347171  ...  0.840579  0.853156  0.280139\n",
              "\n",
              "[4 rows x 8 columns]"
            ]
          },
          "metadata": {
            "tags": []
          },
          "execution_count": 19
        }
      ]
    },
    {
      "cell_type": "markdown",
      "metadata": {
        "id": "ULTp24ViaIcO"
      },
      "source": [
        "### **2.Rename columns**"
      ]
    },
    {
      "cell_type": "code",
      "metadata": {
        "colab": {
          "base_uri": "https://localhost:8080/",
          "height": 106
        },
        "id": "1f2d2SoYZUhT",
        "outputId": "631cfb3f-d1df-45ba-dec1-f264701e186a"
      },
      "source": [
        "df"
      ],
      "execution_count": null,
      "outputs": [
        {
          "output_type": "execute_result",
          "data": {
            "text/html": [
              "<div>\n",
              "<style scoped>\n",
              "    .dataframe tbody tr th:only-of-type {\n",
              "        vertical-align: middle;\n",
              "    }\n",
              "\n",
              "    .dataframe tbody tr th {\n",
              "        vertical-align: top;\n",
              "    }\n",
              "\n",
              "    .dataframe thead th {\n",
              "        text-align: right;\n",
              "    }\n",
              "</style>\n",
              "<table border=\"1\" class=\"dataframe\">\n",
              "  <thead>\n",
              "    <tr style=\"text-align: right;\">\n",
              "      <th></th>\n",
              "      <th>col one</th>\n",
              "      <th>col two</th>\n",
              "    </tr>\n",
              "  </thead>\n",
              "  <tbody>\n",
              "    <tr>\n",
              "      <th>0</th>\n",
              "      <td>100</td>\n",
              "      <td>300</td>\n",
              "    </tr>\n",
              "    <tr>\n",
              "      <th>1</th>\n",
              "      <td>200</td>\n",
              "      <td>400</td>\n",
              "    </tr>\n",
              "  </tbody>\n",
              "</table>\n",
              "</div>"
            ],
            "text/plain": [
              "   col one  col two\n",
              "0      100      300\n",
              "1      200      400"
            ]
          },
          "metadata": {
            "tags": []
          },
          "execution_count": 20
        }
      ]
    },
    {
      "cell_type": "code",
      "metadata": {
        "id": "tdrkSgWLaRhJ"
      },
      "source": [
        "# Approach 1\n",
        "df = df.rename({'col one':'col_one','col two':'col_two'},axis='columns')"
      ],
      "execution_count": null,
      "outputs": []
    },
    {
      "cell_type": "code",
      "metadata": {
        "id": "poNqR-kRavT-"
      },
      "source": [
        "# Approach 2\n",
        "df.columns = ['col one','col two']\n",
        "df.columns = df.columns.str.replace(' ' , '_')"
      ],
      "execution_count": null,
      "outputs": []
    },
    {
      "cell_type": "code",
      "metadata": {
        "id": "7NxOkixIbv2p"
      },
      "source": [
        "df"
      ],
      "execution_count": null,
      "outputs": []
    },
    {
      "cell_type": "code",
      "metadata": {
        "colab": {
          "base_uri": "https://localhost:8080/",
          "height": 106
        },
        "id": "wUB-brT8bwoA",
        "outputId": "da6dd007-793f-421c-dc58-0407488071fe"
      },
      "source": [
        "df.add_prefix('X_')"
      ],
      "execution_count": null,
      "outputs": [
        {
          "output_type": "execute_result",
          "data": {
            "text/html": [
              "<div>\n",
              "<style scoped>\n",
              "    .dataframe tbody tr th:only-of-type {\n",
              "        vertical-align: middle;\n",
              "    }\n",
              "\n",
              "    .dataframe tbody tr th {\n",
              "        vertical-align: top;\n",
              "    }\n",
              "\n",
              "    .dataframe thead th {\n",
              "        text-align: right;\n",
              "    }\n",
              "</style>\n",
              "<table border=\"1\" class=\"dataframe\">\n",
              "  <thead>\n",
              "    <tr style=\"text-align: right;\">\n",
              "      <th></th>\n",
              "      <th>X_col_one</th>\n",
              "      <th>X_col_two</th>\n",
              "    </tr>\n",
              "  </thead>\n",
              "  <tbody>\n",
              "    <tr>\n",
              "      <th>0</th>\n",
              "      <td>100</td>\n",
              "      <td>300</td>\n",
              "    </tr>\n",
              "    <tr>\n",
              "      <th>1</th>\n",
              "      <td>200</td>\n",
              "      <td>400</td>\n",
              "    </tr>\n",
              "  </tbody>\n",
              "</table>\n",
              "</div>"
            ],
            "text/plain": [
              "   X_col_one  X_col_two\n",
              "0        100        300\n",
              "1        200        400"
            ]
          },
          "metadata": {
            "tags": []
          },
          "execution_count": 35
        }
      ]
    },
    {
      "cell_type": "code",
      "metadata": {
        "colab": {
          "base_uri": "https://localhost:8080/",
          "height": 106
        },
        "id": "YGE_FhWibwl1",
        "outputId": "bcfe66df-7191-4823-f309-e2dabb4f178f"
      },
      "source": [
        "df.add_suffix('_Y')"
      ],
      "execution_count": null,
      "outputs": [
        {
          "output_type": "execute_result",
          "data": {
            "text/html": [
              "<div>\n",
              "<style scoped>\n",
              "    .dataframe tbody tr th:only-of-type {\n",
              "        vertical-align: middle;\n",
              "    }\n",
              "\n",
              "    .dataframe tbody tr th {\n",
              "        vertical-align: top;\n",
              "    }\n",
              "\n",
              "    .dataframe thead th {\n",
              "        text-align: right;\n",
              "    }\n",
              "</style>\n",
              "<table border=\"1\" class=\"dataframe\">\n",
              "  <thead>\n",
              "    <tr style=\"text-align: right;\">\n",
              "      <th></th>\n",
              "      <th>col_one_Y</th>\n",
              "      <th>col_two_Y</th>\n",
              "    </tr>\n",
              "  </thead>\n",
              "  <tbody>\n",
              "    <tr>\n",
              "      <th>0</th>\n",
              "      <td>100</td>\n",
              "      <td>300</td>\n",
              "    </tr>\n",
              "    <tr>\n",
              "      <th>1</th>\n",
              "      <td>200</td>\n",
              "      <td>400</td>\n",
              "    </tr>\n",
              "  </tbody>\n",
              "</table>\n",
              "</div>"
            ],
            "text/plain": [
              "   col_one_Y  col_two_Y\n",
              "0        100        300\n",
              "1        200        400"
            ]
          },
          "metadata": {
            "tags": []
          },
          "execution_count": 36
        }
      ]
    },
    {
      "cell_type": "markdown",
      "metadata": {
        "id": "2R0aJ96fciwI"
      },
      "source": [
        "### **3.Reverse Row Order**"
      ]
    },
    {
      "cell_type": "code",
      "metadata": {
        "id": "_GfA_XAtbwir"
      },
      "source": [
        "df.loc[::-1].head()"
      ],
      "execution_count": null,
      "outputs": []
    },
    {
      "cell_type": "code",
      "metadata": {
        "id": "ibcaST3pbwf6"
      },
      "source": [
        "# If want to reset index from Zero of reversed  \n",
        "df.loc[::-1].reset_index(drop=True).head()"
      ],
      "execution_count": null,
      "outputs": []
    },
    {
      "cell_type": "markdown",
      "metadata": {
        "id": "0MvBWG3y0_S4"
      },
      "source": [
        "### **4.Reverse column Order**"
      ]
    },
    {
      "cell_type": "code",
      "metadata": {
        "id": "WsKpI_O0bwdL"
      },
      "source": [
        "# [:,::-1] before \",\" means rows & after \",\" means columns\n",
        "df.loc[:,::-1].head()"
      ],
      "execution_count": null,
      "outputs": []
    },
    {
      "cell_type": "markdown",
      "metadata": {
        "id": "2psEEclD43R_"
      },
      "source": [
        "### **5.Select column by Data Types**"
      ]
    },
    {
      "cell_type": "code",
      "metadata": {
        "id": "X_y1SEWNbwYB"
      },
      "source": [
        "df.select_dtypes(include=['number','object']).head()"
      ],
      "execution_count": null,
      "outputs": []
    },
    {
      "cell_type": "code",
      "metadata": {
        "id": "NoCBokBcbwVQ"
      },
      "source": [
        "df.select_dtypes(exclude=['number'])"
      ],
      "execution_count": null,
      "outputs": []
    },
    {
      "cell_type": "markdown",
      "metadata": {
        "id": "bCqJcgBD6yjR"
      },
      "source": [
        "### **6.Convert String to number**"
      ]
    },
    {
      "cell_type": "code",
      "metadata": {
        "colab": {
          "base_uri": "https://localhost:8080/",
          "height": 136
        },
        "id": "qbs_p0CNELeK",
        "outputId": "ece2c6e7-dc24-4568-bd1d-418940bc7dd7"
      },
      "source": [
        "df = pd.DataFrame({'col_one':['1.1','2.2','3.3'],\n",
        "                   'col_two':['4.4','5.5','6.6'],\n",
        "                   'col_three':['7.7','8.8','-']})\n",
        "df"
      ],
      "execution_count": null,
      "outputs": [
        {
          "output_type": "execute_result",
          "data": {
            "text/html": [
              "<div>\n",
              "<style scoped>\n",
              "    .dataframe tbody tr th:only-of-type {\n",
              "        vertical-align: middle;\n",
              "    }\n",
              "\n",
              "    .dataframe tbody tr th {\n",
              "        vertical-align: top;\n",
              "    }\n",
              "\n",
              "    .dataframe thead th {\n",
              "        text-align: right;\n",
              "    }\n",
              "</style>\n",
              "<table border=\"1\" class=\"dataframe\">\n",
              "  <thead>\n",
              "    <tr style=\"text-align: right;\">\n",
              "      <th></th>\n",
              "      <th>col_one</th>\n",
              "      <th>col_two</th>\n",
              "      <th>col_three</th>\n",
              "    </tr>\n",
              "  </thead>\n",
              "  <tbody>\n",
              "    <tr>\n",
              "      <th>0</th>\n",
              "      <td>1.1</td>\n",
              "      <td>4.4</td>\n",
              "      <td>7.7</td>\n",
              "    </tr>\n",
              "    <tr>\n",
              "      <th>1</th>\n",
              "      <td>2.2</td>\n",
              "      <td>5.5</td>\n",
              "      <td>8.8</td>\n",
              "    </tr>\n",
              "    <tr>\n",
              "      <th>2</th>\n",
              "      <td>3.3</td>\n",
              "      <td>6.6</td>\n",
              "      <td>-</td>\n",
              "    </tr>\n",
              "  </tbody>\n",
              "</table>\n",
              "</div>"
            ],
            "text/plain": [
              "  col_one col_two col_three\n",
              "0     1.1     4.4       7.7\n",
              "1     2.2     5.5       8.8\n",
              "2     3.3     6.6         -"
            ]
          },
          "metadata": {
            "tags": []
          },
          "execution_count": 47
        }
      ]
    },
    {
      "cell_type": "code",
      "metadata": {
        "colab": {
          "base_uri": "https://localhost:8080/"
        },
        "id": "GNH-3Tw_ELbB",
        "outputId": "0bf76fd9-07fe-425b-89f9-cbb87e5f8099"
      },
      "source": [
        "df.dtypes"
      ],
      "execution_count": null,
      "outputs": [
        {
          "output_type": "execute_result",
          "data": {
            "text/plain": [
              "col_one      object\n",
              "col_two      object\n",
              "col_three    object\n",
              "dtype: object"
            ]
          },
          "metadata": {
            "tags": []
          },
          "execution_count": 48
        }
      ]
    },
    {
      "cell_type": "code",
      "metadata": {
        "colab": {
          "base_uri": "https://localhost:8080/"
        },
        "id": "qmGzDSxbE2zV",
        "outputId": "242a6b49-1488-401f-a9d2-d964818f367f"
      },
      "source": [
        "df.astype({'col_one':'float','col_two':'float'}).dtypes"
      ],
      "execution_count": null,
      "outputs": [
        {
          "output_type": "execute_result",
          "data": {
            "text/plain": [
              "col_one      float64\n",
              "col_two      float64\n",
              "col_three     object\n",
              "dtype: object"
            ]
          },
          "metadata": {
            "tags": []
          },
          "execution_count": 49
        }
      ]
    },
    {
      "cell_type": "code",
      "metadata": {
        "colab": {
          "base_uri": "https://localhost:8080/"
        },
        "id": "e2XvqDKZFHuZ",
        "outputId": "efe4b225-9500-4b77-96ef-101e3b86c601"
      },
      "source": [
        "# If astype used on third column it will give error as it contains '-'\n",
        "# Instead we use to_numeric() method, it will convert invalid input to NAN\n",
        "pd.to_numeric(df.col_three, errors='coerce') "
      ],
      "execution_count": null,
      "outputs": [
        {
          "output_type": "execute_result",
          "data": {
            "text/plain": [
              "0    7.7\n",
              "1    8.8\n",
              "2    NaN\n",
              "Name: col_three, dtype: float64"
            ]
          },
          "metadata": {
            "tags": []
          },
          "execution_count": 50
        }
      ]
    },
    {
      "cell_type": "code",
      "metadata": {
        "colab": {
          "base_uri": "https://localhost:8080/"
        },
        "id": "ljAjHCWwFz0_",
        "outputId": "6b2b39cd-1cb1-41e8-dcc6-ab72bbfb0241"
      },
      "source": [
        "# Filling NA values with zeros\n",
        "pd.to_numeric(df.col_three, errors='coerce').fillna(0)"
      ],
      "execution_count": null,
      "outputs": [
        {
          "output_type": "execute_result",
          "data": {
            "text/plain": [
              "0    7.7\n",
              "1    8.8\n",
              "2    0.0\n",
              "Name: col_three, dtype: float64"
            ]
          },
          "metadata": {
            "tags": []
          },
          "execution_count": 51
        }
      ]
    },
    {
      "cell_type": "code",
      "metadata": {
        "colab": {
          "base_uri": "https://localhost:8080/",
          "height": 136
        },
        "id": "ihHUxjxbGOCm",
        "outputId": "c931b4a4-48e0-48d4-90b9-506cd6791f98"
      },
      "source": [
        "df = df.apply(pd.to_numeric, errors='coerce').fillna(0)\n",
        "df"
      ],
      "execution_count": null,
      "outputs": [
        {
          "output_type": "execute_result",
          "data": {
            "text/html": [
              "<div>\n",
              "<style scoped>\n",
              "    .dataframe tbody tr th:only-of-type {\n",
              "        vertical-align: middle;\n",
              "    }\n",
              "\n",
              "    .dataframe tbody tr th {\n",
              "        vertical-align: top;\n",
              "    }\n",
              "\n",
              "    .dataframe thead th {\n",
              "        text-align: right;\n",
              "    }\n",
              "</style>\n",
              "<table border=\"1\" class=\"dataframe\">\n",
              "  <thead>\n",
              "    <tr style=\"text-align: right;\">\n",
              "      <th></th>\n",
              "      <th>col_one</th>\n",
              "      <th>col_two</th>\n",
              "      <th>col_three</th>\n",
              "    </tr>\n",
              "  </thead>\n",
              "  <tbody>\n",
              "    <tr>\n",
              "      <th>0</th>\n",
              "      <td>1.1</td>\n",
              "      <td>4.4</td>\n",
              "      <td>7.7</td>\n",
              "    </tr>\n",
              "    <tr>\n",
              "      <th>1</th>\n",
              "      <td>2.2</td>\n",
              "      <td>5.5</td>\n",
              "      <td>8.8</td>\n",
              "    </tr>\n",
              "    <tr>\n",
              "      <th>2</th>\n",
              "      <td>3.3</td>\n",
              "      <td>6.6</td>\n",
              "      <td>0.0</td>\n",
              "    </tr>\n",
              "  </tbody>\n",
              "</table>\n",
              "</div>"
            ],
            "text/plain": [
              "   col_one  col_two  col_three\n",
              "0      1.1      4.4        7.7\n",
              "1      2.2      5.5        8.8\n",
              "2      3.3      6.6        0.0"
            ]
          },
          "metadata": {
            "tags": []
          },
          "execution_count": 53
        }
      ]
    },
    {
      "cell_type": "code",
      "metadata": {
        "colab": {
          "base_uri": "https://localhost:8080/"
        },
        "id": "zhCeIo9sHADp",
        "outputId": "683e50cb-020e-46df-f308-af5c92e60235"
      },
      "source": [
        "df.dtypes"
      ],
      "execution_count": null,
      "outputs": [
        {
          "output_type": "execute_result",
          "data": {
            "text/plain": [
              "col_one      float64\n",
              "col_two      float64\n",
              "col_three    float64\n",
              "dtype: object"
            ]
          },
          "metadata": {
            "tags": []
          },
          "execution_count": 54
        }
      ]
    },
    {
      "cell_type": "markdown",
      "metadata": {
        "id": "yIF7tRTEG3-z"
      },
      "source": [
        "### **7.Reduce DataFrame Size**"
      ]
    },
    {
      "cell_type": "code",
      "metadata": {
        "id": "I4XkTxeFGxuy"
      },
      "source": [
        "# Only reading those columns from csv which we need \n",
        "cols=['beer_serving','continent']\n",
        "small_drinks = pd.read_csv('', usecols=cols)\n",
        "small_drinks.info()\n"
      ],
      "execution_count": null,
      "outputs": []
    }
  ]
}